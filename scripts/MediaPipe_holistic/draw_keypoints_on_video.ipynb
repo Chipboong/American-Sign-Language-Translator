{
 "cells": [
  {
   "cell_type": "code",
   "execution_count": 1,
   "id": "344703b9",
   "metadata": {},
   "outputs": [
    {
     "name": "stdout",
     "output_type": "stream",
     "text": [
      "Saved video with keypoints to demo_signer_keypoints.mp4\n"
     ]
    }
   ],
   "source": [
    "import cv2\n",
    "import pandas as pd\n",
    "import numpy as np\n",
    "import os\n",
    "\n",
    "# Parameters\n",
    "input_video_path = \"demo_signer.mp4\"  # Change to your video file\n",
    "input_parquet_path = \"demo_user_demo_sign_after.parquet\"  # Change to your .parquet file\n",
    "output_video_path = \"demo_signer_keypoints.mp4\"\n",
    "\n",
    "# Load landmarks\n",
    "df = pd.read_parquet(input_parquet_path)\n",
    "\n",
    "# Open video\n",
    "cap = cv2.VideoCapture(input_video_path)\n",
    "frame_width = int(cap.get(cv2.CAP_PROP_FRAME_WIDTH))\n",
    "frame_height = int(cap.get(cv2.CAP_PROP_FRAME_HEIGHT))\n",
    "fps = cap.get(cv2.CAP_PROP_FPS)\n",
    "\n",
    "# Video writer\n",
    "fourcc = cv2.VideoWriter_fourcc(*'mp4v')\n",
    "out = cv2.VideoWriter(output_video_path, fourcc, fps, (frame_width, frame_height))\n",
    "\n",
    "frame_idx = 0\n",
    "while cap.isOpened():\n",
    "    ret, frame = cap.read()\n",
    "    if not ret:\n",
    "        break\n",
    "    # Get keypoints for this frame\n",
    "    frame_landmarks = df[df['frame'] == frame_idx]\n",
    "    for l_type, color in zip(['left_hand','right_hand','face','pose'], [(255,0,0),(0,0,255),(0,255,0),(255,165,0)]):\n",
    "        pts = frame_landmarks[frame_landmarks['type'] == l_type]\n",
    "        for _, row in pts.iterrows():\n",
    "            # Convert normalized x,y to pixel coordinates\n",
    "            x = int(row['x'] * frame_width)\n",
    "            y = int(row['y'] * frame_height)\n",
    "            cv2.circle(frame, (x, y), 3, color, -1)\n",
    "    out.write(frame)\n",
    "    frame_idx += 1\n",
    "cap.release()\n",
    "out.release()\n",
    "print(f\"Saved video with keypoints to {output_video_path}\")\n"
   ]
  }
 ],
 "metadata": {
  "kernelspec": {
   "display_name": "pytorch_env",
   "language": "python",
   "name": "python3"
  },
  "language_info": {
   "codemirror_mode": {
    "name": "ipython",
    "version": 3
   },
   "file_extension": ".py",
   "mimetype": "text/x-python",
   "name": "python",
   "nbconvert_exporter": "python",
   "pygments_lexer": "ipython3",
   "version": "3.10.18"
  }
 },
 "nbformat": 4,
 "nbformat_minor": 5
}
