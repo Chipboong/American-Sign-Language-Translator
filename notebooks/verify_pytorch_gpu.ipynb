{
 "cells": [
  {
   "cell_type": "code",
   "execution_count": 1,
   "id": "ca74243c",
   "metadata": {},
   "outputs": [
    {
     "name": "stdout",
     "output_type": "stream",
     "text": [
      "GPU Available: True\n",
      "Number of GPUs: 1\n",
      "GPU Name: NVIDIA GeForce RTX 4060 Laptop GPU\n"
     ]
    }
   ],
   "source": [
    "import torch\n",
    "\n",
    "gpu_available = torch.cuda.is_available()\n",
    "gpu_count = torch.cuda.device_count()\n",
    "gpu_name = torch.cuda.get_device_name(0) if gpu_available else 'None'\n",
    "\n",
    "print(f\"GPU Available: {gpu_available}\")\n",
    "print(f\"Number of GPUs: {gpu_count}\")\n",
    "print(f\"GPU Name: {gpu_name}\")"
   ]
  },
  {
   "cell_type": "markdown",
   "id": "858c4f68",
   "metadata": {},
   "source": [
    "# Verify PyTorch GPU Access\n",
    "This notebook checks if PyTorch can access a GPU in your environment."
   ]
  }
 ],
 "metadata": {
  "kernelspec": {
   "display_name": "pytorch_env",
   "language": "python",
   "name": "python3"
  },
  "language_info": {
   "codemirror_mode": {
    "name": "ipython",
    "version": 3
   },
   "file_extension": ".py",
   "mimetype": "text/x-python",
   "name": "python",
   "nbconvert_exporter": "python",
   "pygments_lexer": "ipython3",
   "version": "3.10.18"
  }
 },
 "nbformat": 4,
 "nbformat_minor": 5
}
